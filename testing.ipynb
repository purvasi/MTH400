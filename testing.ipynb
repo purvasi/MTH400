{
 "cells": [
  {
   "cell_type": "code",
   "execution_count": null,
   "id": "b11081ee",
   "metadata": {},
   "outputs": [],
   "source": [
    "print(\"testing\")"
   ]
  }
 ],
 "metadata": {
  "language_info": {
   "name": "python"
  }
 },
 "nbformat": 4,
 "nbformat_minor": 5
}
