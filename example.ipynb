{
 "cells": [
  {
   "cell_type": "code",
   "execution_count": 2,
   "id": "e45eaaea",
   "metadata": {},
   "outputs": [
    {
     "name": "stdout",
     "output_type": "stream",
     "text": [
      "<function <lambda> at 0x1066154e0>\n"
     ]
    }
   ],
   "source": [
    "#print(lambda n: bool([i**2 for i in range(n)][:0]))"
   ]
  },
  {
   "cell_type": "code",
   "execution_count": 19,
   "id": "03e9338e",
   "metadata": {
    "scrolled": true
   },
   "outputs": [
    {
     "name": "stdout",
     "output_type": "stream",
     "text": [
      "[2, 3, 5, 6]\n"
     ]
    }
   ],
   "source": [
    "#l=[0,0,0,0,0,0,0,4,6,8,7]\n",
    "# l starts with 0, and there are 11 elements\n",
    "#len=11\n",
    "\n",
    "i=1\n",
    "m=[]\n",
    "l=[1,2,3,4,5,6,7,4,6,8,7]\n",
    "while i<len(l):\n",
    "    m.append(l[i])\n",
    "    i=2*i\n",
    "\n",
    "print(m)\n"
   ]
  },
  {
   "cell_type": "code",
   "execution_count": null,
   "id": "afe0a33d",
   "metadata": {},
   "outputs": [],
   "source": [
    "a = 27\n",
    "b = 29\n",
    "c = 22\n",
    "d = 17\n",
    "e = 5"
   ]
  },
  {
   "cell_type": "code",
   "execution_count": 24,
   "id": "b12d1b08",
   "metadata": {},
   "outputs": [
    {
     "name": "stdout",
     "output_type": "stream",
     "text": [
      "[3, 3, 3, 3, 3, 3, 3, 3, 3, 3, 3]\n"
     ]
    }
   ],
   "source": [
    "i=0\n",
    "l = [3,2,3,4,5,6,7,8,9,10,11]\n",
    "m=[]\n",
    "for j in range(len(l)):\n",
    "    m.append(l[i])\n",
    "    \n",
    "print(m)"
   ]
  },
  {
   "cell_type": "code",
   "execution_count": 25,
   "id": "796774b1",
   "metadata": {},
   "outputs": [
    {
     "ename": "IndexError",
     "evalue": "list index out of range",
     "output_type": "error",
     "traceback": [
      "\u001b[0;31m---------------------------------------------------------------------------\u001b[0m",
      "\u001b[0;31mIndexError\u001b[0m                                Traceback (most recent call last)",
      "Cell \u001b[0;32mIn[25], line 4\u001b[0m\n\u001b[1;32m      2\u001b[0m l \u001b[38;5;241m=\u001b[39m [\u001b[38;5;241m3\u001b[39m,\u001b[38;5;241m2\u001b[39m,\u001b[38;5;241m3\u001b[39m,\u001b[38;5;241m4\u001b[39m,\u001b[38;5;241m5\u001b[39m,\u001b[38;5;241m6\u001b[39m,\u001b[38;5;241m7\u001b[39m,\u001b[38;5;241m8\u001b[39m,\u001b[38;5;241m9\u001b[39m,\u001b[38;5;241m10\u001b[39m,\u001b[38;5;241m11\u001b[39m]\n\u001b[1;32m      3\u001b[0m m\u001b[38;5;241m=\u001b[39m[]\n\u001b[0;32m----> 4\u001b[0m \u001b[38;5;28;01mwhile\u001b[39;00m l[i]:\n\u001b[1;32m      5\u001b[0m     m\u001b[38;5;241m.\u001b[39mappend(l[i])\n\u001b[1;32m      6\u001b[0m     i\u001b[38;5;241m=\u001b[39mi\u001b[38;5;241m+\u001b[39m\u001b[38;5;241m1\u001b[39m\n",
      "\u001b[0;31mIndexError\u001b[0m: list index out of range"
     ]
    }
   ],
   "source": [
    "i=0\n",
    "l = [3,2,3,4,5,6,7,8,9,10,11]\n",
    "m=[]\n",
    "while l[i]:\n",
    "    m.append(l[i])\n",
    "    i=i+1\n",
    "print(m)"
   ]
  },
  {
   "cell_type": "code",
   "execution_count": 26,
   "id": "a7977557",
   "metadata": {},
   "outputs": [
    {
     "name": "stdout",
     "output_type": "stream",
     "text": [
      "[7, 8, 9, 10, 11]\n"
     ]
    }
   ],
   "source": [
    "m=[]\n",
    "l = [3,2,3,4,5,6,7,8,9,10,11]\n",
    "for i in enumerate(l):\n",
    "    if i[0]>5:\n",
    "        m.append(i[1])\n",
    "print(m)"
   ]
  },
  {
   "cell_type": "code",
   "execution_count": 27,
   "id": "2b26d8cc",
   "metadata": {},
   "outputs": [
    {
     "name": "stdout",
     "output_type": "stream",
     "text": [
      "[2, 3, 5, 9]\n"
     ]
    }
   ],
   "source": [
    "i=1\n",
    "l=[3,2,3,4,5,6,7,8,9,10,11]\n",
    "m=[]\n",
    "while i<len(l):\n",
    "    m.append(l[i])\n",
    "    i=2*i\n",
    "print(m)"
   ]
  },
  {
   "cell_type": "code",
   "execution_count": 28,
   "id": "434fbdd3",
   "metadata": {},
   "outputs": [
    {
     "name": "stdout",
     "output_type": "stream",
     "text": [
      "[11, 10, 9, 8, 7, 6, 5, 4, 3, 3, 2]\n"
     ]
    }
   ],
   "source": [
    "m=[]\n",
    "l = [3,2,3,4,5,6,7,8,9,10,11]\n",
    "for i in sorted(l):\n",
    "    m=[i]+m\n",
    "print(m)"
   ]
  },
  {
   "cell_type": "code",
   "execution_count": 52,
   "id": "f9e80ccf",
   "metadata": {},
   "outputs": [
    {
     "name": "stdout",
     "output_type": "stream",
     "text": [
      "39\n",
      "5\n",
      "27\n",
      "29\n",
      "5\n"
     ]
    }
   ],
   "source": [
    "a = 5\n",
    "b = 29\n",
    "c = 27\n",
    "\n",
    "d = 22\n",
    "e = 17\n",
    "\n",
    "\n",
    "print(a and d+e)\n",
    "print(d-e or not c)\n",
    "\n",
    "print(a*(not b)+c)\n",
    "\n",
    "print(b or c==31)\n",
    "\n",
    "print(\"d==31\" and a)"
   ]
  },
  {
   "cell_type": "code",
   "execution_count": null,
   "id": "f298ce9c",
   "metadata": {},
   "outputs": [],
   "source": []
  }
 ],
 "metadata": {
  "kernelspec": {
   "display_name": "Python 3 (ipykernel)",
   "language": "python",
   "name": "python3"
  },
  "language_info": {
   "codemirror_mode": {
    "name": "ipython",
    "version": 3
   },
   "file_extension": ".py",
   "mimetype": "text/x-python",
   "name": "python",
   "nbconvert_exporter": "python",
   "pygments_lexer": "ipython3",
   "version": "3.11.5"
  }
 },
 "nbformat": 4,
 "nbformat_minor": 5
}
